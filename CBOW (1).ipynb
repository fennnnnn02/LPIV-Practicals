{
  "nbformat": 4,
  "nbformat_minor": 0,
  "metadata": {
    "colab": {
      "provenance": []
    },
    "kernelspec": {
      "name": "python3",
      "display_name": "Python 3"
    },
    "language_info": {
      "name": "python"
    }
  },
  "cells": [
    {
      "cell_type": "code",
      "execution_count": 30,
      "metadata": {
        "id": "ucqRABdS2fe0"
      },
      "outputs": [],
      "source": [
        "import numpy as np\n",
        "import pandas as pd\n",
        "import tensorflow as tf\n",
        "from tensorflow.keras import models,layers\n",
        "from tensorflow.keras.preprocessing.text import Tokenizer\n",
        "from tensorflow.keras.preprocessing.sequence import pad_sequences\n",
        "import matplotlib.pyplot as plt\n",
        "from sklearn.metrics.pairwise import cosine_similarity"
      ]
    },
    {
      "cell_type": "code",
      "source": [
        "file_path = r\"/content/CBOW.txt\""
      ],
      "metadata": {
        "id": "yPke94Ls6Rkx"
      },
      "execution_count": 3,
      "outputs": []
    },
    {
      "cell_type": "code",
      "source": [
        "with open(file_path,'r') as file:\n",
        "  file_contents = file.read()\n",
        "\n",
        "file_contents"
      ],
      "metadata": {
        "colab": {
          "base_uri": "https://localhost:8080/",
          "height": 140
        },
        "id": "es0IYylG6Rhb",
        "outputId": "d7c71321-deb1-4a88-c152-2f99dc6b82a9"
      },
      "execution_count": 5,
      "outputs": [
        {
          "output_type": "execute_result",
          "data": {
            "text/plain": [
              "'The speed of transmission is an important point of difference between the two viruses. Influenza has a shorter median incubation period (the time from infection to appearance of symptoms) and a shorter serial interval (the time between successive cases) than COVID-19 virus. The serial interval for COVID-19 virus is estimated to be 5-6 days, while for influenza virus, the serial interval is 3 days. This means that influenza can spread faster than COVID-19. \\n\\nFurther, transmission in the first 3-5 days of illness, or potentially pre-symptomatic transmission –transmission of the virus before the appearance of symptoms – is a major driver of transmission for influenza. In contrast, while we are learning that there are people who can shed COVID-19 virus 24-48 hours prior to symptom onset, at present, this does not appear to be a major driver of transmission. \\n\\nThe reproductive number – the number of secondary infections generated from one infected individual – is understood to be between 2 and 2.5 for COVID-19 virus, higher than for influenza. However, estimates for both COVID-19 and influenza viruses are very context and time-specific, making direct comparisons more difficult.  '"
            ],
            "application/vnd.google.colaboratory.intrinsic+json": {
              "type": "string"
            }
          },
          "metadata": {},
          "execution_count": 5
        }
      ]
    },
    {
      "cell_type": "code",
      "source": [
        "sentences = file_contents.split('.')\n",
        "tokenizer = Tokenizer()\n",
        "tokenizer.fit_on_texts(sentences)\n",
        "total_words = len(tokenizer.word_index) + 1"
      ],
      "metadata": {
        "id": "UGG1HdDn6RfL"
      },
      "execution_count": 7,
      "outputs": []
    },
    {
      "cell_type": "code",
      "source": [
        "window_size = 3\n",
        "tokenized_sentences = tokenizer.texts_to_sequences(sentences)"
      ],
      "metadata": {
        "id": "KD5nwklv6Rcu"
      },
      "execution_count": 9,
      "outputs": []
    },
    {
      "cell_type": "code",
      "source": [
        "data,labels = [],[]\n",
        "for sentence in tokenized_sentences:\n",
        "  for i,target_word in enumerate(sentence):\n",
        "    context = [\n",
        "        sentence[j] for j in range(i - window_size,i + window_size + 1)\n",
        "        if j!=i and 0 <= j < len(sentence)\n",
        "    ]\n",
        "    data.append(context)\n",
        "    labels.append(target_word)"
      ],
      "metadata": {
        "id": "LcSt6d897rxd"
      },
      "execution_count": 10,
      "outputs": []
    },
    {
      "cell_type": "code",
      "source": [
        "data = pad_sequences(data)\n",
        "labels = np.array(labels)"
      ],
      "metadata": {
        "id": "_UdfR_Tu7ruE"
      },
      "execution_count": 13,
      "outputs": []
    },
    {
      "cell_type": "code",
      "source": [
        "model = models.Sequential([\n",
        "    layers.Embedding(input_dim=total_words,output_dim=50,input_length=window_size*2),\n",
        "    layers.GlobalAveragePooling1D(),\n",
        "    layers.Dense(total_words,activation='softmax')\n",
        "])\n",
        "\n",
        "model.summary()"
      ],
      "metadata": {
        "colab": {
          "base_uri": "https://localhost:8080/"
        },
        "id": "OUHB8uem7rrX",
        "outputId": "35d3d82d-c5c4-48fc-ab46-27ccaab2c7e1"
      },
      "execution_count": 15,
      "outputs": [
        {
          "output_type": "stream",
          "name": "stdout",
          "text": [
            "Model: \"sequential\"\n",
            "_________________________________________________________________\n",
            " Layer (type)                Output Shape              Param #   \n",
            "=================================================================\n",
            " embedding_1 (Embedding)     (None, 6, 50)             5150      \n",
            "                                                                 \n",
            " global_average_pooling1d (  (None, 50)                0         \n",
            " GlobalAveragePooling1D)                                         \n",
            "                                                                 \n",
            " dense (Dense)               (None, 103)               5253      \n",
            "                                                                 \n",
            "=================================================================\n",
            "Total params: 10403 (40.64 KB)\n",
            "Trainable params: 10403 (40.64 KB)\n",
            "Non-trainable params: 0 (0.00 Byte)\n",
            "_________________________________________________________________\n"
          ]
        }
      ]
    },
    {
      "cell_type": "code",
      "source": [
        "model.compile(optimizer='adam',loss='sparse_categorical_crossentropy',metrics=['accuracy'])"
      ],
      "metadata": {
        "id": "ngDrS6P7-ukq"
      },
      "execution_count": 16,
      "outputs": []
    },
    {
      "cell_type": "code",
      "source": [
        "h = model.fit(data,labels,epochs=200,verbose=1)"
      ],
      "metadata": {
        "colab": {
          "base_uri": "https://localhost:8080/"
        },
        "id": "Le9qQHtT-uiV",
        "outputId": "b78dae61-c4f0-4cd2-ce1b-7c68b0f96414"
      },
      "execution_count": 18,
      "outputs": [
        {
          "output_type": "stream",
          "name": "stdout",
          "text": [
            "Epoch 1/200\n",
            "7/7 [==============================] - 0s 5ms/step - loss: 4.5405 - accuracy: 0.1515\n",
            "Epoch 2/200\n",
            "7/7 [==============================] - 0s 4ms/step - loss: 4.5276 - accuracy: 0.1515\n",
            "Epoch 3/200\n",
            "7/7 [==============================] - 0s 6ms/step - loss: 4.5135 - accuracy: 0.1566\n",
            "Epoch 4/200\n",
            "7/7 [==============================] - 0s 5ms/step - loss: 4.4983 - accuracy: 0.1566\n",
            "Epoch 5/200\n",
            "7/7 [==============================] - 0s 4ms/step - loss: 4.4820 - accuracy: 0.1566\n",
            "Epoch 6/200\n",
            "7/7 [==============================] - 0s 4ms/step - loss: 4.4645 - accuracy: 0.1566\n",
            "Epoch 7/200\n",
            "7/7 [==============================] - 0s 4ms/step - loss: 4.4455 - accuracy: 0.1465\n",
            "Epoch 8/200\n",
            "7/7 [==============================] - 0s 4ms/step - loss: 4.4261 - accuracy: 0.1465\n",
            "Epoch 9/200\n",
            "7/7 [==============================] - 0s 4ms/step - loss: 4.4052 - accuracy: 0.1465\n",
            "Epoch 10/200\n",
            "7/7 [==============================] - 0s 4ms/step - loss: 4.3833 - accuracy: 0.1414\n",
            "Epoch 11/200\n",
            "7/7 [==============================] - 0s 4ms/step - loss: 4.3598 - accuracy: 0.1465\n",
            "Epoch 12/200\n",
            "7/7 [==============================] - 0s 4ms/step - loss: 4.3355 - accuracy: 0.1465\n",
            "Epoch 13/200\n",
            "7/7 [==============================] - 0s 4ms/step - loss: 4.3099 - accuracy: 0.1515\n",
            "Epoch 14/200\n",
            "7/7 [==============================] - 0s 5ms/step - loss: 4.2831 - accuracy: 0.1515\n",
            "Epoch 15/200\n",
            "7/7 [==============================] - 0s 4ms/step - loss: 4.2561 - accuracy: 0.1566\n",
            "Epoch 16/200\n",
            "7/7 [==============================] - 0s 4ms/step - loss: 4.2263 - accuracy: 0.1616\n",
            "Epoch 17/200\n",
            "7/7 [==============================] - 0s 4ms/step - loss: 4.1968 - accuracy: 0.1667\n",
            "Epoch 18/200\n",
            "7/7 [==============================] - 0s 4ms/step - loss: 4.1671 - accuracy: 0.1616\n",
            "Epoch 19/200\n",
            "7/7 [==============================] - 0s 4ms/step - loss: 4.1367 - accuracy: 0.1667\n",
            "Epoch 20/200\n",
            "7/7 [==============================] - 0s 4ms/step - loss: 4.1055 - accuracy: 0.1768\n",
            "Epoch 21/200\n",
            "7/7 [==============================] - 0s 4ms/step - loss: 4.0742 - accuracy: 0.1717\n",
            "Epoch 22/200\n",
            "7/7 [==============================] - 0s 4ms/step - loss: 4.0427 - accuracy: 0.1768\n",
            "Epoch 23/200\n",
            "7/7 [==============================] - 0s 4ms/step - loss: 4.0107 - accuracy: 0.1768\n",
            "Epoch 24/200\n",
            "7/7 [==============================] - 0s 4ms/step - loss: 3.9797 - accuracy: 0.1768\n",
            "Epoch 25/200\n",
            "7/7 [==============================] - 0s 4ms/step - loss: 3.9479 - accuracy: 0.1818\n",
            "Epoch 26/200\n",
            "7/7 [==============================] - 0s 4ms/step - loss: 3.9172 - accuracy: 0.1869\n",
            "Epoch 27/200\n",
            "7/7 [==============================] - 0s 4ms/step - loss: 3.8866 - accuracy: 0.1818\n",
            "Epoch 28/200\n",
            "7/7 [==============================] - 0s 4ms/step - loss: 3.8556 - accuracy: 0.1818\n",
            "Epoch 29/200\n",
            "7/7 [==============================] - 0s 4ms/step - loss: 3.8249 - accuracy: 0.1869\n",
            "Epoch 30/200\n",
            "7/7 [==============================] - 0s 3ms/step - loss: 3.7958 - accuracy: 0.1818\n",
            "Epoch 31/200\n",
            "7/7 [==============================] - 0s 3ms/step - loss: 3.7666 - accuracy: 0.1919\n",
            "Epoch 32/200\n",
            "7/7 [==============================] - 0s 4ms/step - loss: 3.7373 - accuracy: 0.1919\n",
            "Epoch 33/200\n",
            "7/7 [==============================] - 0s 5ms/step - loss: 3.7084 - accuracy: 0.1919\n",
            "Epoch 34/200\n",
            "7/7 [==============================] - 0s 4ms/step - loss: 3.6806 - accuracy: 0.1919\n",
            "Epoch 35/200\n",
            "7/7 [==============================] - 0s 4ms/step - loss: 3.6522 - accuracy: 0.1970\n",
            "Epoch 36/200\n",
            "7/7 [==============================] - 0s 4ms/step - loss: 3.6246 - accuracy: 0.1919\n",
            "Epoch 37/200\n",
            "7/7 [==============================] - 0s 4ms/step - loss: 3.5974 - accuracy: 0.1818\n",
            "Epoch 38/200\n",
            "7/7 [==============================] - 0s 5ms/step - loss: 3.5704 - accuracy: 0.1869\n",
            "Epoch 39/200\n",
            "7/7 [==============================] - 0s 4ms/step - loss: 3.5433 - accuracy: 0.1919\n",
            "Epoch 40/200\n",
            "7/7 [==============================] - 0s 3ms/step - loss: 3.5169 - accuracy: 0.1970\n",
            "Epoch 41/200\n",
            "7/7 [==============================] - 0s 3ms/step - loss: 3.4904 - accuracy: 0.2020\n",
            "Epoch 42/200\n",
            "7/7 [==============================] - 0s 3ms/step - loss: 3.4644 - accuracy: 0.1970\n",
            "Epoch 43/200\n",
            "7/7 [==============================] - 0s 3ms/step - loss: 3.4384 - accuracy: 0.2020\n",
            "Epoch 44/200\n",
            "7/7 [==============================] - 0s 3ms/step - loss: 3.4117 - accuracy: 0.2071\n",
            "Epoch 45/200\n",
            "7/7 [==============================] - 0s 4ms/step - loss: 3.3872 - accuracy: 0.2121\n",
            "Epoch 46/200\n",
            "7/7 [==============================] - 0s 3ms/step - loss: 3.3619 - accuracy: 0.2121\n",
            "Epoch 47/200\n",
            "7/7 [==============================] - 0s 3ms/step - loss: 3.3364 - accuracy: 0.2121\n",
            "Epoch 48/200\n",
            "7/7 [==============================] - 0s 5ms/step - loss: 3.3114 - accuracy: 0.2121\n",
            "Epoch 49/200\n",
            "7/7 [==============================] - 0s 4ms/step - loss: 3.2864 - accuracy: 0.2222\n",
            "Epoch 50/200\n",
            "7/7 [==============================] - 0s 3ms/step - loss: 3.2616 - accuracy: 0.2323\n",
            "Epoch 51/200\n",
            "7/7 [==============================] - 0s 4ms/step - loss: 3.2372 - accuracy: 0.2323\n",
            "Epoch 52/200\n",
            "7/7 [==============================] - 0s 4ms/step - loss: 3.2131 - accuracy: 0.2374\n",
            "Epoch 53/200\n",
            "7/7 [==============================] - 0s 3ms/step - loss: 3.1888 - accuracy: 0.2374\n",
            "Epoch 54/200\n",
            "7/7 [==============================] - 0s 4ms/step - loss: 3.1657 - accuracy: 0.2323\n",
            "Epoch 55/200\n",
            "7/7 [==============================] - 0s 4ms/step - loss: 3.1423 - accuracy: 0.2323\n",
            "Epoch 56/200\n",
            "7/7 [==============================] - 0s 5ms/step - loss: 3.1190 - accuracy: 0.2374\n",
            "Epoch 57/200\n",
            "7/7 [==============================] - 0s 4ms/step - loss: 3.0957 - accuracy: 0.2424\n",
            "Epoch 58/200\n",
            "7/7 [==============================] - 0s 3ms/step - loss: 3.0724 - accuracy: 0.2374\n",
            "Epoch 59/200\n",
            "7/7 [==============================] - 0s 4ms/step - loss: 3.0487 - accuracy: 0.2475\n",
            "Epoch 60/200\n",
            "7/7 [==============================] - 0s 4ms/step - loss: 3.0261 - accuracy: 0.2475\n",
            "Epoch 61/200\n",
            "7/7 [==============================] - 0s 3ms/step - loss: 3.0041 - accuracy: 0.2525\n",
            "Epoch 62/200\n",
            "7/7 [==============================] - 0s 4ms/step - loss: 2.9819 - accuracy: 0.2525\n",
            "Epoch 63/200\n",
            "7/7 [==============================] - 0s 4ms/step - loss: 2.9593 - accuracy: 0.2626\n",
            "Epoch 64/200\n",
            "7/7 [==============================] - 0s 4ms/step - loss: 2.9371 - accuracy: 0.2677\n",
            "Epoch 65/200\n",
            "7/7 [==============================] - 0s 4ms/step - loss: 2.9157 - accuracy: 0.2576\n",
            "Epoch 66/200\n",
            "7/7 [==============================] - 0s 4ms/step - loss: 2.8947 - accuracy: 0.2576\n",
            "Epoch 67/200\n",
            "7/7 [==============================] - 0s 3ms/step - loss: 2.8734 - accuracy: 0.2677\n",
            "Epoch 68/200\n",
            "7/7 [==============================] - 0s 3ms/step - loss: 2.8521 - accuracy: 0.2677\n",
            "Epoch 69/200\n",
            "7/7 [==============================] - 0s 4ms/step - loss: 2.8311 - accuracy: 0.2778\n",
            "Epoch 70/200\n",
            "7/7 [==============================] - 0s 4ms/step - loss: 2.8108 - accuracy: 0.2828\n",
            "Epoch 71/200\n",
            "7/7 [==============================] - 0s 3ms/step - loss: 2.7908 - accuracy: 0.2879\n",
            "Epoch 72/200\n",
            "7/7 [==============================] - 0s 3ms/step - loss: 2.7705 - accuracy: 0.2980\n",
            "Epoch 73/200\n",
            "7/7 [==============================] - 0s 3ms/step - loss: 2.7504 - accuracy: 0.3030\n",
            "Epoch 74/200\n",
            "7/7 [==============================] - 0s 4ms/step - loss: 2.7305 - accuracy: 0.3030\n",
            "Epoch 75/200\n",
            "7/7 [==============================] - 0s 3ms/step - loss: 2.7109 - accuracy: 0.3030\n",
            "Epoch 76/200\n",
            "7/7 [==============================] - 0s 3ms/step - loss: 2.6912 - accuracy: 0.3131\n",
            "Epoch 77/200\n",
            "7/7 [==============================] - 0s 4ms/step - loss: 2.6718 - accuracy: 0.3081\n",
            "Epoch 78/200\n",
            "7/7 [==============================] - 0s 4ms/step - loss: 2.6529 - accuracy: 0.3182\n",
            "Epoch 79/200\n",
            "7/7 [==============================] - 0s 4ms/step - loss: 2.6333 - accuracy: 0.3283\n",
            "Epoch 80/200\n",
            "7/7 [==============================] - 0s 4ms/step - loss: 2.6143 - accuracy: 0.3333\n",
            "Epoch 81/200\n",
            "7/7 [==============================] - 0s 4ms/step - loss: 2.5958 - accuracy: 0.3384\n",
            "Epoch 82/200\n",
            "7/7 [==============================] - 0s 5ms/step - loss: 2.5766 - accuracy: 0.3434\n",
            "Epoch 83/200\n",
            "7/7 [==============================] - 0s 4ms/step - loss: 2.5582 - accuracy: 0.3384\n",
            "Epoch 84/200\n",
            "7/7 [==============================] - 0s 4ms/step - loss: 2.5403 - accuracy: 0.3434\n",
            "Epoch 85/200\n",
            "7/7 [==============================] - 0s 5ms/step - loss: 2.5223 - accuracy: 0.3586\n",
            "Epoch 86/200\n",
            "7/7 [==============================] - 0s 4ms/step - loss: 2.5052 - accuracy: 0.3737\n",
            "Epoch 87/200\n",
            "7/7 [==============================] - 0s 5ms/step - loss: 2.4871 - accuracy: 0.4040\n",
            "Epoch 88/200\n",
            "7/7 [==============================] - 0s 4ms/step - loss: 2.4695 - accuracy: 0.3990\n",
            "Epoch 89/200\n",
            "7/7 [==============================] - 0s 4ms/step - loss: 2.4518 - accuracy: 0.4040\n",
            "Epoch 90/200\n",
            "7/7 [==============================] - 0s 4ms/step - loss: 2.4357 - accuracy: 0.4141\n",
            "Epoch 91/200\n",
            "7/7 [==============================] - 0s 4ms/step - loss: 2.4182 - accuracy: 0.4242\n",
            "Epoch 92/200\n",
            "7/7 [==============================] - 0s 4ms/step - loss: 2.4010 - accuracy: 0.4293\n",
            "Epoch 93/200\n",
            "7/7 [==============================] - 0s 3ms/step - loss: 2.3842 - accuracy: 0.4242\n",
            "Epoch 94/200\n",
            "7/7 [==============================] - 0s 4ms/step - loss: 2.3674 - accuracy: 0.4343\n",
            "Epoch 95/200\n",
            "7/7 [==============================] - 0s 3ms/step - loss: 2.3505 - accuracy: 0.4343\n",
            "Epoch 96/200\n",
            "7/7 [==============================] - 0s 3ms/step - loss: 2.3344 - accuracy: 0.4394\n",
            "Epoch 97/200\n",
            "7/7 [==============================] - 0s 4ms/step - loss: 2.3174 - accuracy: 0.4444\n",
            "Epoch 98/200\n",
            "7/7 [==============================] - 0s 3ms/step - loss: 2.3018 - accuracy: 0.4596\n",
            "Epoch 99/200\n",
            "7/7 [==============================] - 0s 3ms/step - loss: 2.2855 - accuracy: 0.4646\n",
            "Epoch 100/200\n",
            "7/7 [==============================] - 0s 3ms/step - loss: 2.2697 - accuracy: 0.4646\n",
            "Epoch 101/200\n",
            "7/7 [==============================] - 0s 3ms/step - loss: 2.2538 - accuracy: 0.4646\n",
            "Epoch 102/200\n",
            "7/7 [==============================] - 0s 2ms/step - loss: 2.2382 - accuracy: 0.4646\n",
            "Epoch 103/200\n",
            "7/7 [==============================] - 0s 3ms/step - loss: 2.2229 - accuracy: 0.4798\n",
            "Epoch 104/200\n",
            "7/7 [==============================] - 0s 3ms/step - loss: 2.2066 - accuracy: 0.4899\n",
            "Epoch 105/200\n",
            "7/7 [==============================] - 0s 4ms/step - loss: 2.1913 - accuracy: 0.5051\n",
            "Epoch 106/200\n",
            "7/7 [==============================] - 0s 3ms/step - loss: 2.1768 - accuracy: 0.5152\n",
            "Epoch 107/200\n",
            "7/7 [==============================] - 0s 3ms/step - loss: 2.1612 - accuracy: 0.5253\n",
            "Epoch 108/200\n",
            "7/7 [==============================] - 0s 3ms/step - loss: 2.1461 - accuracy: 0.5253\n",
            "Epoch 109/200\n",
            "7/7 [==============================] - 0s 3ms/step - loss: 2.1322 - accuracy: 0.5202\n",
            "Epoch 110/200\n",
            "7/7 [==============================] - 0s 3ms/step - loss: 2.1168 - accuracy: 0.5303\n",
            "Epoch 111/200\n",
            "7/7 [==============================] - 0s 3ms/step - loss: 2.1024 - accuracy: 0.5253\n",
            "Epoch 112/200\n",
            "7/7 [==============================] - 0s 3ms/step - loss: 2.0879 - accuracy: 0.5253\n",
            "Epoch 113/200\n",
            "7/7 [==============================] - 0s 3ms/step - loss: 2.0730 - accuracy: 0.5253\n",
            "Epoch 114/200\n",
            "7/7 [==============================] - 0s 3ms/step - loss: 2.0586 - accuracy: 0.5404\n",
            "Epoch 115/200\n",
            "7/7 [==============================] - 0s 4ms/step - loss: 2.0449 - accuracy: 0.5505\n",
            "Epoch 116/200\n",
            "7/7 [==============================] - 0s 3ms/step - loss: 2.0306 - accuracy: 0.5657\n",
            "Epoch 117/200\n",
            "7/7 [==============================] - 0s 3ms/step - loss: 2.0161 - accuracy: 0.5707\n",
            "Epoch 118/200\n",
            "7/7 [==============================] - 0s 3ms/step - loss: 2.0018 - accuracy: 0.5707\n",
            "Epoch 119/200\n",
            "7/7 [==============================] - 0s 3ms/step - loss: 1.9867 - accuracy: 0.5808\n",
            "Epoch 120/200\n",
            "7/7 [==============================] - 0s 4ms/step - loss: 1.9730 - accuracy: 0.5808\n",
            "Epoch 121/200\n",
            "7/7 [==============================] - 0s 3ms/step - loss: 1.9592 - accuracy: 0.6061\n",
            "Epoch 122/200\n",
            "7/7 [==============================] - 0s 5ms/step - loss: 1.9455 - accuracy: 0.6010\n",
            "Epoch 123/200\n",
            "7/7 [==============================] - 0s 3ms/step - loss: 1.9316 - accuracy: 0.6162\n",
            "Epoch 124/200\n",
            "7/7 [==============================] - 0s 3ms/step - loss: 1.9179 - accuracy: 0.6263\n",
            "Epoch 125/200\n",
            "7/7 [==============================] - 0s 3ms/step - loss: 1.9050 - accuracy: 0.6212\n",
            "Epoch 126/200\n",
            "7/7 [==============================] - 0s 3ms/step - loss: 1.8913 - accuracy: 0.6414\n",
            "Epoch 127/200\n",
            "7/7 [==============================] - 0s 3ms/step - loss: 1.8781 - accuracy: 0.6515\n",
            "Epoch 128/200\n",
            "7/7 [==============================] - 0s 3ms/step - loss: 1.8651 - accuracy: 0.6566\n",
            "Epoch 129/200\n",
            "7/7 [==============================] - 0s 3ms/step - loss: 1.8513 - accuracy: 0.6566\n",
            "Epoch 130/200\n",
            "7/7 [==============================] - 0s 3ms/step - loss: 1.8379 - accuracy: 0.6616\n",
            "Epoch 131/200\n",
            "7/7 [==============================] - 0s 3ms/step - loss: 1.8252 - accuracy: 0.6616\n",
            "Epoch 132/200\n",
            "7/7 [==============================] - 0s 3ms/step - loss: 1.8123 - accuracy: 0.6717\n",
            "Epoch 133/200\n",
            "7/7 [==============================] - 0s 3ms/step - loss: 1.7997 - accuracy: 0.6667\n",
            "Epoch 134/200\n",
            "7/7 [==============================] - 0s 4ms/step - loss: 1.7865 - accuracy: 0.6717\n",
            "Epoch 135/200\n",
            "7/7 [==============================] - 0s 4ms/step - loss: 1.7739 - accuracy: 0.6818\n",
            "Epoch 136/200\n",
            "7/7 [==============================] - 0s 3ms/step - loss: 1.7607 - accuracy: 0.6869\n",
            "Epoch 137/200\n",
            "7/7 [==============================] - 0s 4ms/step - loss: 1.7491 - accuracy: 0.6869\n",
            "Epoch 138/200\n",
            "7/7 [==============================] - 0s 3ms/step - loss: 1.7360 - accuracy: 0.6818\n",
            "Epoch 139/200\n",
            "7/7 [==============================] - 0s 3ms/step - loss: 1.7237 - accuracy: 0.6818\n",
            "Epoch 140/200\n",
            "7/7 [==============================] - 0s 3ms/step - loss: 1.7115 - accuracy: 0.6869\n",
            "Epoch 141/200\n",
            "7/7 [==============================] - 0s 3ms/step - loss: 1.6986 - accuracy: 0.6919\n",
            "Epoch 142/200\n",
            "7/7 [==============================] - 0s 3ms/step - loss: 1.6876 - accuracy: 0.7020\n",
            "Epoch 143/200\n",
            "7/7 [==============================] - 0s 3ms/step - loss: 1.6753 - accuracy: 0.7020\n",
            "Epoch 144/200\n",
            "7/7 [==============================] - 0s 4ms/step - loss: 1.6633 - accuracy: 0.7071\n",
            "Epoch 145/200\n",
            "7/7 [==============================] - 0s 3ms/step - loss: 1.6510 - accuracy: 0.7121\n",
            "Epoch 146/200\n",
            "7/7 [==============================] - 0s 3ms/step - loss: 1.6384 - accuracy: 0.7071\n",
            "Epoch 147/200\n",
            "7/7 [==============================] - 0s 3ms/step - loss: 1.6264 - accuracy: 0.7172\n",
            "Epoch 148/200\n",
            "7/7 [==============================] - 0s 3ms/step - loss: 1.6146 - accuracy: 0.7273\n",
            "Epoch 149/200\n",
            "7/7 [==============================] - 0s 3ms/step - loss: 1.6024 - accuracy: 0.7323\n",
            "Epoch 150/200\n",
            "7/7 [==============================] - 0s 3ms/step - loss: 1.5910 - accuracy: 0.7374\n",
            "Epoch 151/200\n",
            "7/7 [==============================] - 0s 3ms/step - loss: 1.5786 - accuracy: 0.7424\n",
            "Epoch 152/200\n",
            "7/7 [==============================] - 0s 3ms/step - loss: 1.5670 - accuracy: 0.7475\n",
            "Epoch 153/200\n",
            "7/7 [==============================] - 0s 3ms/step - loss: 1.5556 - accuracy: 0.7576\n",
            "Epoch 154/200\n",
            "7/7 [==============================] - 0s 3ms/step - loss: 1.5445 - accuracy: 0.7576\n",
            "Epoch 155/200\n",
            "7/7 [==============================] - 0s 3ms/step - loss: 1.5329 - accuracy: 0.7626\n",
            "Epoch 156/200\n",
            "7/7 [==============================] - 0s 3ms/step - loss: 1.5210 - accuracy: 0.7677\n",
            "Epoch 157/200\n",
            "7/7 [==============================] - 0s 3ms/step - loss: 1.5096 - accuracy: 0.7626\n",
            "Epoch 158/200\n",
            "7/7 [==============================] - 0s 3ms/step - loss: 1.4986 - accuracy: 0.7677\n",
            "Epoch 159/200\n",
            "7/7 [==============================] - 0s 3ms/step - loss: 1.4875 - accuracy: 0.7778\n",
            "Epoch 160/200\n",
            "7/7 [==============================] - 0s 3ms/step - loss: 1.4757 - accuracy: 0.7879\n",
            "Epoch 161/200\n",
            "7/7 [==============================] - 0s 3ms/step - loss: 1.4650 - accuracy: 0.7929\n",
            "Epoch 162/200\n",
            "7/7 [==============================] - 0s 3ms/step - loss: 1.4537 - accuracy: 0.8030\n",
            "Epoch 163/200\n",
            "7/7 [==============================] - 0s 3ms/step - loss: 1.4433 - accuracy: 0.8081\n",
            "Epoch 164/200\n",
            "7/7 [==============================] - 0s 3ms/step - loss: 1.4323 - accuracy: 0.8131\n",
            "Epoch 165/200\n",
            "7/7 [==============================] - 0s 3ms/step - loss: 1.4210 - accuracy: 0.8182\n",
            "Epoch 166/200\n",
            "7/7 [==============================] - 0s 3ms/step - loss: 1.4100 - accuracy: 0.8182\n",
            "Epoch 167/200\n",
            "7/7 [==============================] - 0s 3ms/step - loss: 1.3992 - accuracy: 0.8131\n",
            "Epoch 168/200\n",
            "7/7 [==============================] - 0s 3ms/step - loss: 1.3891 - accuracy: 0.8081\n",
            "Epoch 169/200\n",
            "7/7 [==============================] - 0s 3ms/step - loss: 1.3783 - accuracy: 0.8081\n",
            "Epoch 170/200\n",
            "7/7 [==============================] - 0s 3ms/step - loss: 1.3677 - accuracy: 0.8182\n",
            "Epoch 171/200\n",
            "7/7 [==============================] - 0s 3ms/step - loss: 1.3571 - accuracy: 0.8081\n",
            "Epoch 172/200\n",
            "7/7 [==============================] - 0s 4ms/step - loss: 1.3467 - accuracy: 0.8131\n",
            "Epoch 173/200\n",
            "7/7 [==============================] - 0s 3ms/step - loss: 1.3359 - accuracy: 0.8131\n",
            "Epoch 174/200\n",
            "7/7 [==============================] - 0s 3ms/step - loss: 1.3260 - accuracy: 0.8182\n",
            "Epoch 175/200\n",
            "7/7 [==============================] - 0s 4ms/step - loss: 1.3155 - accuracy: 0.8182\n",
            "Epoch 176/200\n",
            "7/7 [==============================] - 0s 3ms/step - loss: 1.3051 - accuracy: 0.8232\n",
            "Epoch 177/200\n",
            "7/7 [==============================] - 0s 3ms/step - loss: 1.2951 - accuracy: 0.8333\n",
            "Epoch 178/200\n",
            "7/7 [==============================] - 0s 3ms/step - loss: 1.2843 - accuracy: 0.8434\n",
            "Epoch 179/200\n",
            "7/7 [==============================] - 0s 3ms/step - loss: 1.2747 - accuracy: 0.8384\n",
            "Epoch 180/200\n",
            "7/7 [==============================] - 0s 3ms/step - loss: 1.2645 - accuracy: 0.8384\n",
            "Epoch 181/200\n",
            "7/7 [==============================] - 0s 3ms/step - loss: 1.2544 - accuracy: 0.8384\n",
            "Epoch 182/200\n",
            "7/7 [==============================] - 0s 3ms/step - loss: 1.2449 - accuracy: 0.8434\n",
            "Epoch 183/200\n",
            "7/7 [==============================] - 0s 3ms/step - loss: 1.2345 - accuracy: 0.8485\n",
            "Epoch 184/200\n",
            "7/7 [==============================] - 0s 3ms/step - loss: 1.2255 - accuracy: 0.8636\n",
            "Epoch 185/200\n",
            "7/7 [==============================] - 0s 3ms/step - loss: 1.2155 - accuracy: 0.8636\n",
            "Epoch 186/200\n",
            "7/7 [==============================] - 0s 3ms/step - loss: 1.2059 - accuracy: 0.8687\n",
            "Epoch 187/200\n",
            "7/7 [==============================] - 0s 3ms/step - loss: 1.1963 - accuracy: 0.8636\n",
            "Epoch 188/200\n",
            "7/7 [==============================] - 0s 3ms/step - loss: 1.1866 - accuracy: 0.8636\n",
            "Epoch 189/200\n",
            "7/7 [==============================] - 0s 3ms/step - loss: 1.1772 - accuracy: 0.8636\n",
            "Epoch 190/200\n",
            "7/7 [==============================] - 0s 3ms/step - loss: 1.1681 - accuracy: 0.8687\n",
            "Epoch 191/200\n",
            "7/7 [==============================] - 0s 3ms/step - loss: 1.1590 - accuracy: 0.8636\n",
            "Epoch 192/200\n",
            "7/7 [==============================] - 0s 3ms/step - loss: 1.1493 - accuracy: 0.8636\n",
            "Epoch 193/200\n",
            "7/7 [==============================] - 0s 4ms/step - loss: 1.1400 - accuracy: 0.8788\n",
            "Epoch 194/200\n",
            "7/7 [==============================] - 0s 3ms/step - loss: 1.1308 - accuracy: 0.8788\n",
            "Epoch 195/200\n",
            "7/7 [==============================] - 0s 3ms/step - loss: 1.1224 - accuracy: 0.8838\n",
            "Epoch 196/200\n",
            "7/7 [==============================] - 0s 3ms/step - loss: 1.1131 - accuracy: 0.8838\n",
            "Epoch 197/200\n",
            "7/7 [==============================] - 0s 3ms/step - loss: 1.1039 - accuracy: 0.8838\n",
            "Epoch 198/200\n",
            "7/7 [==============================] - 0s 3ms/step - loss: 1.0953 - accuracy: 0.8788\n",
            "Epoch 199/200\n",
            "7/7 [==============================] - 0s 3ms/step - loss: 1.0861 - accuracy: 0.8788\n",
            "Epoch 200/200\n",
            "7/7 [==============================] - 0s 3ms/step - loss: 1.0771 - accuracy: 0.8788\n"
          ]
        }
      ]
    },
    {
      "cell_type": "code",
      "source": [
        "plt.plot(h.history['loss'])\n",
        "plt.plot(h.history['accuracy'])\n",
        "plt.legend(['loss','accuracy'])\n",
        "plt.xlabel('Epochs')\n",
        "plt.ylabel('msle')\n",
        "plt.show()"
      ],
      "metadata": {
        "colab": {
          "base_uri": "https://localhost:8080/",
          "height": 449
        },
        "id": "AuD-vRboC7WA",
        "outputId": "d742f96e-8cae-4b22-ed88-45aa6907adc0"
      },
      "execution_count": 23,
      "outputs": [
        {
          "output_type": "display_data",
          "data": {
            "text/plain": [
              "<Figure size 640x480 with 1 Axes>"
            ],
            "image/png": "[encoded data removed]"
          },
          "metadata": {}
        }
      ]
    },
    {
      "cell_type": "code",
      "source": [
        "word_embeddings = model.layers[0].get_weights()[0]\n",
        "target_word = 'influenza'\n",
        "target_embedding = word_embeddings[tokenizer.word_index[target_word]]\n"
      ],
      "metadata": {
        "id": "HmEmnwxIC7Sn"
      },
      "execution_count": 27,
      "outputs": []
    },
    {
      "cell_type": "code",
      "source": [
        "similarities = cosine_similarity(target_embedding.reshape(1,-1),word_embeddings)[0]\n",
        "most_similar_indices = similarities.argsort()[-5:][::-1]\n",
        "most_similar_words = [word for word, idx in tokenizer.word_index.items() if idx in most_similar_indices]\n",
        "\n",
        "print(f'Most similar words to {target_word}: {most_similar_words}')"
      ],
      "metadata": {
        "colab": {
          "base_uri": "https://localhost:8080/"
        },
        "id": "Qb09P-MDC7QK",
        "outputId": "f6c8db2a-ba69-433b-c51a-d5e67ea528fa"
      },
      "execution_count": 35,
      "outputs": [
        {
          "output_type": "stream",
          "name": "stdout",
          "text": [
            "Most similar words to influenza: ['influenza', 'faster', 'contrast', 'learning', 'context']\n"
          ]
        }
      ]
    },
    {
      "cell_type": "code",
      "source": [
        "input_text = \"The quick brown fox jumps over the lazy dog.\"\n",
        "input_sequence = tokenizer.texts_to_sequences([input_text])[0]\n",
        "target_index = 3\n",
        "context_sequence = input_sequence[target_index-window_size : target_index+window_size+1]\n",
        "input_data = pad_sequences([context_sequence],maxlen=window_size*2)\n",
        "pred = model.predict(input_data)\n",
        "predicted_word_index = np.argmax(pred)\n",
        "predicted_word = tokenizer.index_word[predicted_word_index]\n",
        "print(f'Predicted word: {predicted_word}')"
      ],
      "metadata": {
        "colab": {
          "base_uri": "https://localhost:8080/"
        },
        "id": "QJKCfZ2oJJBJ",
        "outputId": "e35d7399-3ce3-430a-bec2-e8576bb0fa81"
      },
      "execution_count": 46,
      "outputs": [
        {
          "output_type": "stream",
          "name": "stdout",
          "text": [
            "1/1 [==============================] - 0s 22ms/step\n",
            "Predicted word: in\n"
          ]
        }
      ]
    }
  ]
}