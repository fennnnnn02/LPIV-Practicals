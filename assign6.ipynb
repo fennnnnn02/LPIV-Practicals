{
 "cells": [
  {
   "cell_type": "code",
   "execution_count": 1,
   "metadata": {},
   "outputs": [],
   "source": [
    "import numpy as np\n",
    "import tensorflow as tf\n",
    "from tensorflow import keras\n",
    "from keras.preprocessing.image import ImageDataGenerator\n",
    "from keras import layers\n",
    "from keras import models\n",
    "from keras.applications import VGG16"
   ]
  },
  {
   "cell_type": "code",
   "execution_count": 2,
   "metadata": {},
   "outputs": [
    {
     "name": "stdout",
     "output_type": "stream",
     "text": [
      "Found 9144 images belonging to 102 classes.\n"
     ]
    }
   ],
   "source": [
    "datagen = ImageDataGenerator(\n",
    "    rescale=1/255.0\n",
    ")\n",
    "dataset_gen = datagen.flow_from_directory(\n",
    "    'dataset\\Object Detection(Ass6)\\caltech-101-img',\n",
    "    batch_size=2000,\n",
    "    target_size=(64,64),\n",
    "    class_mode='categorical'\n",
    ")"
   ]
  },
  {
   "cell_type": "code",
   "execution_count": 3,
   "metadata": {},
   "outputs": [],
   "source": [
    "xtrain,ytrain = dataset_gen[0]\n",
    "xtest,ytest= dataset_gen[1]"
   ]
  },
  {
   "cell_type": "code",
   "execution_count": 4,
   "metadata": {},
   "outputs": [
    {
     "name": "stdout",
     "output_type": "stream",
     "text": [
      "2000\n",
      "2000\n"
     ]
    }
   ],
   "source": [
    "print(len(xtrain))  # Print the number of samples in the first batch of training data\n",
    "print(len(xtest))"
   ]
  },
  {
   "cell_type": "code",
   "execution_count": 5,
   "metadata": {},
   "outputs": [],
   "source": [
    "weight = 'dataset/Object Detection(Ass6)/vgg16_weights_tf_dim_ordering_tf_kernels_notop.h5'\n",
    "base_model = VGG16(weights=weight,include_top=False,input_shape=(64,64,3))"
   ]
  },
  {
   "cell_type": "code",
   "execution_count": 6,
   "metadata": {},
   "outputs": [],
   "source": [
    "for layer in base_model.layers:\n",
    "    layer.trainable=False"
   ]
  },
  {
   "cell_type": "code",
   "execution_count": 7,
   "metadata": {},
   "outputs": [],
   "source": [
    "model = keras.Sequential([\n",
    "    base_model,\n",
    "    layers.Flatten(),\n",
    "    layers.Dense(64,activation='relu'),\n",
    "    layers.Dropout(0.25),\n",
    "    layers.Dense(102,activation='softmax')\n",
    "])"
   ]
  },
  {
   "cell_type": "code",
   "execution_count": 8,
   "metadata": {},
   "outputs": [],
   "source": [
    "model.compile(optimizer='adam',loss='categorical_crossentropy',metrics=['accuracy'])"
   ]
  },
  {
   "cell_type": "code",
   "execution_count": 9,
   "metadata": {},
   "outputs": [
    {
     "name": "stdout",
     "output_type": "stream",
     "text": [
      "Model: \"sequential\"\n",
      "_________________________________________________________________\n",
      "Layer (type)                 Output Shape              Param #   \n",
      "=================================================================\n",
      "vgg16 (Functional)           (None, 2, 2, 512)         14714688  \n",
      "_________________________________________________________________\n",
      "flatten (Flatten)            (None, 2048)              0         \n",
      "_________________________________________________________________\n",
      "dense (Dense)                (None, 64)                131136    \n",
      "_________________________________________________________________\n",
      "dropout (Dropout)            (None, 64)                0         \n",
      "_________________________________________________________________\n",
      "dense_1 (Dense)              (None, 102)               6630      \n",
      "=================================================================\n",
      "Total params: 14,852,454\n",
      "Trainable params: 137,766\n",
      "Non-trainable params: 14,714,688\n",
      "_________________________________________________________________\n"
     ]
    }
   ],
   "source": [
    "model.summary()"
   ]
  },
  {
   "cell_type": "code",
   "execution_count": 10,
   "metadata": {},
   "outputs": [
    {
     "name": "stdout",
     "output_type": "stream",
     "text": [
      "Epoch 1/10\n",
      "63/63 [==============================] - 17s 266ms/step - loss: 3.8474 - accuracy: 0.2070\n",
      "Epoch 2/10\n",
      "63/63 [==============================] - 17s 271ms/step - loss: 3.0118 - accuracy: 0.3460\n",
      "Epoch 3/10\n",
      "63/63 [==============================] - 17s 267ms/step - loss: 2.6172 - accuracy: 0.4180\n",
      "Epoch 4/10\n",
      "63/63 [==============================] - 17s 268ms/step - loss: 2.3368 - accuracy: 0.4565\n",
      "Epoch 5/10\n",
      "63/63 [==============================] - 17s 265ms/step - loss: 2.0645 - accuracy: 0.5210\n",
      "Epoch 6/10\n",
      "63/63 [==============================] - 17s 266ms/step - loss: 1.8776 - accuracy: 0.5535\n",
      "Epoch 7/10\n",
      "63/63 [==============================] - 17s 274ms/step - loss: 1.6985 - accuracy: 0.5875\n",
      "Epoch 8/10\n",
      "63/63 [==============================] - 17s 269ms/step - loss: 1.5143 - accuracy: 0.6390\n",
      "Epoch 9/10\n",
      "63/63 [==============================] - 17s 270ms/step - loss: 1.4357 - accuracy: 0.6630\n",
      "Epoch 10/10\n",
      "63/63 [==============================] - 17s 268ms/step - loss: 1.3134 - accuracy: 0.6805\n"
     ]
    }
   ],
   "source": [
    "h1 = model.fit(xtrain,ytrain,epochs=10)"
   ]
  },
  {
   "cell_type": "code",
   "execution_count": 11,
   "metadata": {},
   "outputs": [],
   "source": [
    "for layer in base_model.layers[-2:]:\n",
    "    layer.trainable=True"
   ]
  },
  {
   "cell_type": "code",
   "execution_count": 12,
   "metadata": {},
   "outputs": [],
   "source": [
    "model.compile(optimizer=tf.keras.optimizers.Adam(learning_rate=0.001),loss='categorical_crossentropy',metrics=['accuracy'])"
   ]
  },
  {
   "cell_type": "code",
   "execution_count": 13,
   "metadata": {},
   "outputs": [
    {
     "name": "stdout",
     "output_type": "stream",
     "text": [
      "Epoch 1/10\n"
     ]
    },
    {
     "name": "stdout",
     "output_type": "stream",
     "text": [
      "63/63 [==============================] - 19s 307ms/step - loss: 2.4648 - accuracy: 0.4365\n",
      "Epoch 2/10\n",
      "63/63 [==============================] - 19s 303ms/step - loss: 1.6670 - accuracy: 0.5765\n",
      "Epoch 3/10\n",
      "63/63 [==============================] - 19s 307ms/step - loss: 1.2178 - accuracy: 0.6755\n",
      "Epoch 4/10\n",
      "63/63 [==============================] - 19s 302ms/step - loss: 1.0023 - accuracy: 0.7200\n",
      "Epoch 5/10\n",
      "63/63 [==============================] - 19s 304ms/step - loss: 0.7419 - accuracy: 0.7955\n",
      "Epoch 6/10\n",
      "63/63 [==============================] - 19s 304ms/step - loss: 0.5765 - accuracy: 0.8355\n",
      "Epoch 7/10\n",
      "63/63 [==============================] - 20s 322ms/step - loss: 0.4716 - accuracy: 0.8535\n",
      "Epoch 8/10\n",
      "63/63 [==============================] - 20s 320ms/step - loss: 0.3795 - accuracy: 0.8835\n",
      "Epoch 9/10\n",
      "63/63 [==============================] - 19s 309ms/step - loss: 0.2993 - accuracy: 0.9185\n",
      "Epoch 10/10\n",
      "63/63 [==============================] - 21s 329ms/step - loss: 0.2995 - accuracy: 0.9085\n"
     ]
    }
   ],
   "source": [
    "h2 = model.fit(xtrain,ytrain,epochs=10)"
   ]
  },
  {
   "cell_type": "code",
   "execution_count": 14,
   "metadata": {},
   "outputs": [
    {
     "name": "stdout",
     "output_type": "stream",
     "text": [
      "63/63 [==============================] - 18s 289ms/step - loss: 2.2493 - accuracy: 0.6065\n"
     ]
    }
   ],
   "source": [
    "testl,testa = model.evaluate(xtest,ytest)"
   ]
  },
  {
   "cell_type": "code",
   "execution_count": 15,
   "metadata": {},
   "outputs": [
    {
     "data": {
      "text/plain": [
       "[<matplotlib.lines.Line2D at 0x1bc11912f10>]"
      ]
     },
     "execution_count": 15,
     "metadata": {},
     "output_type": "execute_result"
    },
    {
     "data": {
      "image/png": "[encoded data removed]",
      "text/plain": [
       "<Figure size 432x288 with 1 Axes>"
      ]
     },
     "metadata": {
      "needs_background": "light"
     },
     "output_type": "display_data"
    }
   ],
   "source": [
    "import matplotlib.pyplot as plt\n",
    "plt.plot(h2.history['loss'])"
   ]
  },
  {
   "cell_type": "code",
   "execution_count": 16,
   "metadata": {},
   "outputs": [
    {
     "data": {
      "text/plain": [
       "<matplotlib.image.AxesImage at 0x1bc119b0220>"
      ]
     },
     "execution_count": 16,
     "metadata": {},
     "output_type": "execute_result"
    },
    {
     "data": {
      "image/png": "[encoded data removed]",
      "text/plain": [
       "<Figure size 432x288 with 1 Axes>"
      ]
     },
     "metadata": {
      "needs_background": "light"
     },
     "output_type": "display_data"
    }
   ],
   "source": [
    "plt.imshow(xtest[30])"
   ]
  },
  {
   "cell_type": "code",
   "execution_count": 17,
   "metadata": {},
   "outputs": [
    {
     "name": "stdout",
     "output_type": "stream",
     "text": [
      "predicted:  bonsai\n",
      "actual bonsai\n"
     ]
    }
   ],
   "source": [
    "labels = list(dataset_gen.class_indices.keys())\n",
    "print('predicted: ',labels[np.argmax(model.predict(xtest)[30])])\n",
    "print('actual',labels[np.argmax(ytest[30])])"
   ]
  },
  {
   "cell_type": "code",
   "execution_count": null,
   "metadata": {},
   "outputs": [],
   "source": []
  }
 ],
 "metadata": {
  "kernelspec": {
   "display_name": "base",
   "language": "python",
   "name": "python3"
  },
  "language_info": {
   "codemirror_mode": {
    "name": "ipython",
    "version": 3
   },
   "file_extension": ".py",
   "mimetype": "text/x-python",
   "name": "python",
   "nbconvert_exporter": "python",
   "pygments_lexer": "ipython3",
   "version": "3.8.8"
  }
 },
 "nbformat": 4,
 "nbformat_minor": 2
}
