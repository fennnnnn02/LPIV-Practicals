{
 "cells": [
  {
   "cell_type": "code",
   "execution_count": 85,
   "metadata": {},
   "outputs": [],
   "source": [
    "import tensorflow as tf\n",
    "from tensorflow import keras\n",
    "from tensorflow.keras import layers"
   ]
  },
  {
   "cell_type": "code",
   "execution_count": 86,
   "metadata": {},
   "outputs": [],
   "source": [
    "import pandas as pd\n",
    "import matplotlib.pyplot as plt"
   ]
  },
  {
   "cell_type": "code",
   "execution_count": 87,
   "metadata": {},
   "outputs": [
    {
     "data": {
      "text/html": [
       "<div>\n",
       "<style scoped>\n",
       "    .dataframe tbody tr th:only-of-type {\n",
       "        vertical-align: middle;\n",
       "    }\n",
       "\n",
       "    .dataframe tbody tr th {\n",
       "        vertical-align: top;\n",
       "    }\n",
       "\n",
       "    .dataframe thead th {\n",
       "        text-align: right;\n",
       "    }\n",
       "</style>\n",
       "<table border=\"1\" class=\"dataframe\">\n",
       "  <thead>\n",
       "    <tr style=\"text-align: right;\">\n",
       "      <th></th>\n",
       "      <th>0</th>\n",
       "      <th>1</th>\n",
       "      <th>2</th>\n",
       "      <th>3</th>\n",
       "      <th>4</th>\n",
       "      <th>5</th>\n",
       "      <th>6</th>\n",
       "      <th>7</th>\n",
       "      <th>8</th>\n",
       "      <th>9</th>\n",
       "      <th>...</th>\n",
       "      <th>131</th>\n",
       "      <th>132</th>\n",
       "      <th>133</th>\n",
       "      <th>134</th>\n",
       "      <th>135</th>\n",
       "      <th>136</th>\n",
       "      <th>137</th>\n",
       "      <th>138</th>\n",
       "      <th>139</th>\n",
       "      <th>140</th>\n",
       "    </tr>\n",
       "  </thead>\n",
       "  <tbody>\n",
       "    <tr>\n",
       "      <th>0</th>\n",
       "      <td>-0.112522</td>\n",
       "      <td>-2.827204</td>\n",
       "      <td>-3.773897</td>\n",
       "      <td>-4.349751</td>\n",
       "      <td>-4.376041</td>\n",
       "      <td>-3.474986</td>\n",
       "      <td>-2.181408</td>\n",
       "      <td>-1.818286</td>\n",
       "      <td>-1.250522</td>\n",
       "      <td>-0.477492</td>\n",
       "      <td>...</td>\n",
       "      <td>0.792168</td>\n",
       "      <td>0.933541</td>\n",
       "      <td>0.796958</td>\n",
       "      <td>0.578621</td>\n",
       "      <td>0.257740</td>\n",
       "      <td>0.228077</td>\n",
       "      <td>0.123431</td>\n",
       "      <td>0.925286</td>\n",
       "      <td>0.193137</td>\n",
       "      <td>1</td>\n",
       "    </tr>\n",
       "    <tr>\n",
       "      <th>1</th>\n",
       "      <td>-1.100878</td>\n",
       "      <td>-3.996840</td>\n",
       "      <td>-4.285843</td>\n",
       "      <td>-4.506579</td>\n",
       "      <td>-4.022377</td>\n",
       "      <td>-3.234368</td>\n",
       "      <td>-1.566126</td>\n",
       "      <td>-0.992258</td>\n",
       "      <td>-0.754680</td>\n",
       "      <td>0.042321</td>\n",
       "      <td>...</td>\n",
       "      <td>0.538356</td>\n",
       "      <td>0.656881</td>\n",
       "      <td>0.787490</td>\n",
       "      <td>0.724046</td>\n",
       "      <td>0.555784</td>\n",
       "      <td>0.476333</td>\n",
       "      <td>0.773820</td>\n",
       "      <td>1.119621</td>\n",
       "      <td>-1.436250</td>\n",
       "      <td>1</td>\n",
       "    </tr>\n",
       "    <tr>\n",
       "      <th>2</th>\n",
       "      <td>-0.567088</td>\n",
       "      <td>-2.593450</td>\n",
       "      <td>-3.874230</td>\n",
       "      <td>-4.584095</td>\n",
       "      <td>-4.187449</td>\n",
       "      <td>-3.151462</td>\n",
       "      <td>-1.742940</td>\n",
       "      <td>-1.490659</td>\n",
       "      <td>-1.183580</td>\n",
       "      <td>-0.394229</td>\n",
       "      <td>...</td>\n",
       "      <td>0.886073</td>\n",
       "      <td>0.531452</td>\n",
       "      <td>0.311377</td>\n",
       "      <td>-0.021919</td>\n",
       "      <td>-0.713683</td>\n",
       "      <td>-0.532197</td>\n",
       "      <td>0.321097</td>\n",
       "      <td>0.904227</td>\n",
       "      <td>-0.421797</td>\n",
       "      <td>1</td>\n",
       "    </tr>\n",
       "    <tr>\n",
       "      <th>3</th>\n",
       "      <td>0.490473</td>\n",
       "      <td>-1.914407</td>\n",
       "      <td>-3.616364</td>\n",
       "      <td>-4.318823</td>\n",
       "      <td>-4.268016</td>\n",
       "      <td>-3.881110</td>\n",
       "      <td>-2.993280</td>\n",
       "      <td>-1.671131</td>\n",
       "      <td>-1.333884</td>\n",
       "      <td>-0.965629</td>\n",
       "      <td>...</td>\n",
       "      <td>0.350816</td>\n",
       "      <td>0.499111</td>\n",
       "      <td>0.600345</td>\n",
       "      <td>0.842069</td>\n",
       "      <td>0.952074</td>\n",
       "      <td>0.990133</td>\n",
       "      <td>1.086798</td>\n",
       "      <td>1.403011</td>\n",
       "      <td>-0.383564</td>\n",
       "      <td>1</td>\n",
       "    </tr>\n",
       "    <tr>\n",
       "      <th>4</th>\n",
       "      <td>0.800232</td>\n",
       "      <td>-0.874252</td>\n",
       "      <td>-2.384761</td>\n",
       "      <td>-3.973292</td>\n",
       "      <td>-4.338224</td>\n",
       "      <td>-3.802422</td>\n",
       "      <td>-2.534510</td>\n",
       "      <td>-1.783423</td>\n",
       "      <td>-1.594450</td>\n",
       "      <td>-0.753199</td>\n",
       "      <td>...</td>\n",
       "      <td>1.148884</td>\n",
       "      <td>0.958434</td>\n",
       "      <td>1.059025</td>\n",
       "      <td>1.371682</td>\n",
       "      <td>1.277392</td>\n",
       "      <td>0.960304</td>\n",
       "      <td>0.971020</td>\n",
       "      <td>1.614392</td>\n",
       "      <td>1.421456</td>\n",
       "      <td>1</td>\n",
       "    </tr>\n",
       "  </tbody>\n",
       "</table>\n",
       "<p>5 rows × 141 columns</p>\n",
       "</div>"
      ],
      "text/plain": [
       "        0         1         2         3         4         5         6    \\\n",
       "0 -0.112522 -2.827204 -3.773897 -4.349751 -4.376041 -3.474986 -2.181408   \n",
       "1 -1.100878 -3.996840 -4.285843 -4.506579 -4.022377 -3.234368 -1.566126   \n",
       "2 -0.567088 -2.593450 -3.874230 -4.584095 -4.187449 -3.151462 -1.742940   \n",
       "3  0.490473 -1.914407 -3.616364 -4.318823 -4.268016 -3.881110 -2.993280   \n",
       "4  0.800232 -0.874252 -2.384761 -3.973292 -4.338224 -3.802422 -2.534510   \n",
       "\n",
       "        7         8         9    ...       131       132       133       134  \\\n",
       "0 -1.818286 -1.250522 -0.477492  ...  0.792168  0.933541  0.796958  0.578621   \n",
       "1 -0.992258 -0.754680  0.042321  ...  0.538356  0.656881  0.787490  0.724046   \n",
       "2 -1.490659 -1.183580 -0.394229  ...  0.886073  0.531452  0.311377 -0.021919   \n",
       "3 -1.671131 -1.333884 -0.965629  ...  0.350816  0.499111  0.600345  0.842069   \n",
       "4 -1.783423 -1.594450 -0.753199  ...  1.148884  0.958434  1.059025  1.371682   \n",
       "\n",
       "        135       136       137       138       139  140  \n",
       "0  0.257740  0.228077  0.123431  0.925286  0.193137    1  \n",
       "1  0.555784  0.476333  0.773820  1.119621 -1.436250    1  \n",
       "2 -0.713683 -0.532197  0.321097  0.904227 -0.421797    1  \n",
       "3  0.952074  0.990133  1.086798  1.403011 -0.383564    1  \n",
       "4  1.277392  0.960304  0.971020  1.614392  1.421456    1  \n",
       "\n",
       "[5 rows x 141 columns]"
      ]
     },
     "execution_count": 87,
     "metadata": {},
     "output_type": "execute_result"
    }
   ],
   "source": [
    "df = pd.read_csv(\"LP-IV-datasets\\ECGdataset(Ass4)\\ecg_autoencoder_dataset.csv\",header=None)\n",
    "df.head()"
   ]
  },
  {
   "cell_type": "code",
   "execution_count": 88,
   "metadata": {},
   "outputs": [
    {
     "data": {
      "text/plain": [
       "array([[ 0.13015314, -0.81456844, -0.92422829, ...,  0.77172417,\n",
       "         0.63616554,  0.84393733],\n",
       "       [-0.72754575, -1.62378238, -1.29351275, ...,  0.87786548,\n",
       "        -0.51593741,  0.84393733],\n",
       "       [-0.26432105, -0.65284576, -0.99660187, ...,  0.76022193,\n",
       "         0.2013596 ,  0.84393733],\n",
       "       ...,\n",
       "       [-0.74671683, -0.4172529 , -0.27050469, ..., -0.83057384,\n",
       "        -0.77902953, -1.18492211],\n",
       "       [-0.24750005, -0.16584826, -0.25041586, ...,  0.89470289,\n",
       "         1.06875185, -1.18492211],\n",
       "       [-0.9452788 , -0.38686749, -0.01991038, ..., -0.59541889,\n",
       "         0.01558609, -1.18492211]])"
      ]
     },
     "execution_count": 88,
     "metadata": {},
     "output_type": "execute_result"
    }
   ],
   "source": [
    "from sklearn.preprocessing import StandardScaler\n",
    "ss = StandardScaler()\n",
    "ss.fit_transform(df)"
   ]
  },
  {
   "cell_type": "code",
   "execution_count": 89,
   "metadata": {},
   "outputs": [
    {
     "data": {
      "text/plain": [
       "(4998, 141)"
      ]
     },
     "execution_count": 89,
     "metadata": {},
     "output_type": "execute_result"
    }
   ],
   "source": [
    "df.shape"
   ]
  },
  {
   "cell_type": "code",
   "execution_count": 90,
   "metadata": {},
   "outputs": [],
   "source": [
    "X = df.iloc[:,:-1]\n",
    "y = df.iloc[:,-1]"
   ]
  },
  {
   "cell_type": "code",
   "execution_count": 91,
   "metadata": {},
   "outputs": [],
   "source": [
    "from sklearn.model_selection import train_test_split"
   ]
  },
  {
   "cell_type": "code",
   "execution_count": 92,
   "metadata": {},
   "outputs": [],
   "source": [
    "X_train,X_test,y_train,y_test = train_test_split(X,X,test_size=0.25,random_state=3)"
   ]
  },
  {
   "cell_type": "code",
   "execution_count": 93,
   "metadata": {},
   "outputs": [
    {
     "data": {
      "text/plain": [
       "(1250, 140)"
      ]
     },
     "execution_count": 93,
     "metadata": {},
     "output_type": "execute_result"
    }
   ],
   "source": [
    "X_test.shape"
   ]
  },
  {
   "cell_type": "code",
   "execution_count": 94,
   "metadata": {},
   "outputs": [],
   "source": [
    "model = keras.Sequential([\n",
    "    layers.Dense(128,activation='relu',),\n",
    "    layers.Dense(X_train.shape[1],activation='linear')\n",
    "])"
   ]
  },
  {
   "cell_type": "code",
   "execution_count": 95,
   "metadata": {},
   "outputs": [],
   "source": [
    "model.compile(optimizer='adam', loss='mse',metrics=['accuracy'])"
   ]
  },
  {
   "cell_type": "code",
   "execution_count": 96,
   "metadata": {},
   "outputs": [
    {
     "name": "stdout",
     "output_type": "stream",
     "text": [
      "Epoch 1/100\n",
      "WARNING:tensorflow:Layer dense_14 is casting an input tensor from dtype float64 to the layer's dtype of float32, which is new behavior in TensorFlow 2.  The layer has dtype float32 because its dtype defaults to floatx.\n",
      "\n",
      "If you intended to run this layer in float32, you can safely ignore this warning. If in doubt, this warning is likely only an issue if you are porting a TensorFlow 1.X model to TensorFlow 2.\n",
      "\n",
      "To change all layers to have dtype float64 by default, call `tf.keras.backend.set_floatx('float64')`. To change just this layer, pass dtype='float64' to the layer constructor. If you are the author of this layer, you can disable autocasting by passing autocast=False to the base Layer constructor.\n",
      "\n"
     ]
    },
    {
     "name": "stdout",
     "output_type": "stream",
     "text": [
      "59/59 [==============================] - 0s 5ms/step - loss: 0.3663 - accuracy: 0.0704 - val_loss: 0.1083 - val_accuracy: 0.1336\n",
      "Epoch 2/100\n",
      "59/59 [==============================] - 0s 2ms/step - loss: 0.0715 - accuracy: 0.1777 - val_loss: 0.0514 - val_accuracy: 0.2384\n",
      "Epoch 3/100\n",
      "59/59 [==============================] - 0s 2ms/step - loss: 0.0399 - accuracy: 0.2588 - val_loss: 0.0354 - val_accuracy: 0.2768\n",
      "Epoch 4/100\n",
      "59/59 [==============================] - 0s 2ms/step - loss: 0.0292 - accuracy: 0.2996 - val_loss: 0.0280 - val_accuracy: 0.2992\n",
      "Epoch 5/100\n",
      "59/59 [==============================] - 0s 2ms/step - loss: 0.0236 - accuracy: 0.3175 - val_loss: 0.0236 - val_accuracy: 0.3184\n",
      "Epoch 6/100\n",
      "59/59 [==============================] - 0s 2ms/step - loss: 0.0200 - accuracy: 0.3367 - val_loss: 0.0205 - val_accuracy: 0.3632\n",
      "Epoch 7/100\n",
      "59/59 [==============================] - 0s 2ms/step - loss: 0.0174 - accuracy: 0.3581 - val_loss: 0.0183 - val_accuracy: 0.3632\n",
      "Epoch 8/100\n",
      "59/59 [==============================] - 0s 2ms/step - loss: 0.0155 - accuracy: 0.3799 - val_loss: 0.0167 - val_accuracy: 0.3800\n",
      "Epoch 9/100\n",
      "59/59 [==============================] - 0s 2ms/step - loss: 0.0140 - accuracy: 0.3810 - val_loss: 0.0155 - val_accuracy: 0.3808\n",
      "Epoch 10/100\n",
      "59/59 [==============================] - 0s 2ms/step - loss: 0.0128 - accuracy: 0.4021 - val_loss: 0.0144 - val_accuracy: 0.3944\n",
      "Epoch 11/100\n",
      "59/59 [==============================] - 0s 2ms/step - loss: 0.0119 - accuracy: 0.4160 - val_loss: 0.0136 - val_accuracy: 0.3976\n",
      "Epoch 12/100\n",
      "59/59 [==============================] - 0s 2ms/step - loss: 0.0110 - accuracy: 0.4242 - val_loss: 0.0130 - val_accuracy: 0.3936\n",
      "Epoch 13/100\n",
      "59/59 [==============================] - 0s 2ms/step - loss: 0.0103 - accuracy: 0.4245 - val_loss: 0.0123 - val_accuracy: 0.4032\n",
      "Epoch 14/100\n",
      "59/59 [==============================] - 0s 2ms/step - loss: 0.0097 - accuracy: 0.4336 - val_loss: 0.0117 - val_accuracy: 0.4304\n",
      "Epoch 15/100\n",
      "59/59 [==============================] - 0s 2ms/step - loss: 0.0091 - accuracy: 0.4405 - val_loss: 0.0113 - val_accuracy: 0.4344\n",
      "Epoch 16/100\n",
      "59/59 [==============================] - 0s 2ms/step - loss: 0.0086 - accuracy: 0.4498 - val_loss: 0.0107 - val_accuracy: 0.4488\n",
      "Epoch 17/100\n",
      "59/59 [==============================] - 0s 2ms/step - loss: 0.0082 - accuracy: 0.4554 - val_loss: 0.0105 - val_accuracy: 0.4264\n",
      "Epoch 18/100\n",
      "59/59 [==============================] - 0s 2ms/step - loss: 0.0078 - accuracy: 0.4589 - val_loss: 0.0100 - val_accuracy: 0.4376\n",
      "Epoch 19/100\n",
      "59/59 [==============================] - 0s 2ms/step - loss: 0.0074 - accuracy: 0.4781 - val_loss: 0.0096 - val_accuracy: 0.4480\n",
      "Epoch 20/100\n",
      "59/59 [==============================] - 0s 2ms/step - loss: 0.0070 - accuracy: 0.4795 - val_loss: 0.0093 - val_accuracy: 0.4648\n",
      "Epoch 21/100\n",
      "59/59 [==============================] - 0s 2ms/step - loss: 0.0067 - accuracy: 0.4813 - val_loss: 0.0090 - val_accuracy: 0.4536\n",
      "Epoch 22/100\n",
      "59/59 [==============================] - 0s 2ms/step - loss: 0.0064 - accuracy: 0.4888 - val_loss: 0.0088 - val_accuracy: 0.4768\n",
      "Epoch 23/100\n",
      "59/59 [==============================] - 0s 2ms/step - loss: 0.0061 - accuracy: 0.4912 - val_loss: 0.0087 - val_accuracy: 0.4736\n",
      "Epoch 24/100\n",
      "59/59 [==============================] - 0s 2ms/step - loss: 0.0059 - accuracy: 0.5072 - val_loss: 0.0081 - val_accuracy: 0.4784\n",
      "Epoch 25/100\n",
      "59/59 [==============================] - 0s 2ms/step - loss: 0.0056 - accuracy: 0.5128 - val_loss: 0.0081 - val_accuracy: 0.4896\n",
      "Epoch 26/100\n",
      "59/59 [==============================] - 0s 2ms/step - loss: 0.0054 - accuracy: 0.5155 - val_loss: 0.0078 - val_accuracy: 0.5000\n",
      "Epoch 27/100\n",
      "59/59 [==============================] - 0s 2ms/step - loss: 0.0052 - accuracy: 0.5192 - val_loss: 0.0076 - val_accuracy: 0.4880\n",
      "Epoch 28/100\n",
      "59/59 [==============================] - 0s 2ms/step - loss: 0.0050 - accuracy: 0.5293 - val_loss: 0.0074 - val_accuracy: 0.5104\n",
      "Epoch 29/100\n",
      "59/59 [==============================] - 0s 2ms/step - loss: 0.0048 - accuracy: 0.5315 - val_loss: 0.0073 - val_accuracy: 0.5200\n",
      "Epoch 30/100\n",
      "59/59 [==============================] - 0s 2ms/step - loss: 0.0047 - accuracy: 0.5406 - val_loss: 0.0071 - val_accuracy: 0.5144\n",
      "Epoch 31/100\n",
      "59/59 [==============================] - 0s 2ms/step - loss: 0.0045 - accuracy: 0.5424 - val_loss: 0.0069 - val_accuracy: 0.5232\n",
      "Epoch 32/100\n",
      "59/59 [==============================] - 0s 2ms/step - loss: 0.0043 - accuracy: 0.5371 - val_loss: 0.0067 - val_accuracy: 0.5168\n",
      "Epoch 33/100\n",
      "59/59 [==============================] - 0s 2ms/step - loss: 0.0042 - accuracy: 0.5504 - val_loss: 0.0066 - val_accuracy: 0.5128\n",
      "Epoch 34/100\n",
      "59/59 [==============================] - 0s 2ms/step - loss: 0.0041 - accuracy: 0.5379 - val_loss: 0.0065 - val_accuracy: 0.5264\n",
      "Epoch 35/100\n",
      "59/59 [==============================] - 0s 2ms/step - loss: 0.0040 - accuracy: 0.5576 - val_loss: 0.0064 - val_accuracy: 0.5336\n",
      "Epoch 36/100\n",
      "59/59 [==============================] - 0s 2ms/step - loss: 0.0038 - accuracy: 0.5592 - val_loss: 0.0064 - val_accuracy: 0.5536\n",
      "Epoch 37/100\n",
      "59/59 [==============================] - 0s 2ms/step - loss: 0.0037 - accuracy: 0.5656 - val_loss: 0.0062 - val_accuracy: 0.5464\n",
      "Epoch 38/100\n",
      "59/59 [==============================] - 0s 2ms/step - loss: 0.0036 - accuracy: 0.5611 - val_loss: 0.0060 - val_accuracy: 0.5448\n",
      "Epoch 39/100\n",
      "59/59 [==============================] - 0s 2ms/step - loss: 0.0035 - accuracy: 0.5704 - val_loss: 0.0060 - val_accuracy: 0.5464\n",
      "Epoch 40/100\n",
      "59/59 [==============================] - 0s 2ms/step - loss: 0.0034 - accuracy: 0.5675 - val_loss: 0.0059 - val_accuracy: 0.5656\n",
      "Epoch 41/100\n",
      "59/59 [==============================] - 0s 2ms/step - loss: 0.0034 - accuracy: 0.5672 - val_loss: 0.0058 - val_accuracy: 0.5440\n",
      "Epoch 42/100\n",
      "59/59 [==============================] - 0s 2ms/step - loss: 0.0033 - accuracy: 0.5646 - val_loss: 0.0057 - val_accuracy: 0.5648\n",
      "Epoch 43/100\n",
      "59/59 [==============================] - 0s 2ms/step - loss: 0.0032 - accuracy: 0.5760 - val_loss: 0.0057 - val_accuracy: 0.5720\n",
      "Epoch 44/100\n",
      "59/59 [==============================] - 0s 2ms/step - loss: 0.0031 - accuracy: 0.5803 - val_loss: 0.0056 - val_accuracy: 0.5600\n",
      "Epoch 45/100\n",
      "59/59 [==============================] - 0s 2ms/step - loss: 0.0030 - accuracy: 0.5811 - val_loss: 0.0055 - val_accuracy: 0.5576\n",
      "Epoch 46/100\n",
      "59/59 [==============================] - 0s 2ms/step - loss: 0.0030 - accuracy: 0.5816 - val_loss: 0.0054 - val_accuracy: 0.5776\n",
      "Epoch 47/100\n",
      "59/59 [==============================] - 0s 2ms/step - loss: 0.0029 - accuracy: 0.5806 - val_loss: 0.0053 - val_accuracy: 0.5728\n",
      "Epoch 48/100\n",
      "59/59 [==============================] - 0s 2ms/step - loss: 0.0028 - accuracy: 0.5998 - val_loss: 0.0053 - val_accuracy: 0.5568\n",
      "Epoch 49/100\n",
      "59/59 [==============================] - 0s 2ms/step - loss: 0.0028 - accuracy: 0.5963 - val_loss: 0.0052 - val_accuracy: 0.5832\n",
      "Epoch 50/100\n",
      "59/59 [==============================] - 0s 2ms/step - loss: 0.0027 - accuracy: 0.5950 - val_loss: 0.0051 - val_accuracy: 0.5776\n",
      "Epoch 51/100\n",
      "59/59 [==============================] - 0s 2ms/step - loss: 0.0027 - accuracy: 0.6001 - val_loss: 0.0051 - val_accuracy: 0.5512\n",
      "Epoch 52/100\n",
      "59/59 [==============================] - 0s 2ms/step - loss: 0.0026 - accuracy: 0.5993 - val_loss: 0.0051 - val_accuracy: 0.5888\n",
      "Epoch 53/100\n",
      "59/59 [==============================] - 0s 2ms/step - loss: 0.0026 - accuracy: 0.6073 - val_loss: 0.0049 - val_accuracy: 0.5880\n",
      "Epoch 54/100\n",
      "59/59 [==============================] - 0s 2ms/step - loss: 0.0025 - accuracy: 0.6033 - val_loss: 0.0049 - val_accuracy: 0.5928\n",
      "Epoch 55/100\n",
      "59/59 [==============================] - 0s 2ms/step - loss: 0.0025 - accuracy: 0.6078 - val_loss: 0.0049 - val_accuracy: 0.5960\n",
      "Epoch 56/100\n",
      "59/59 [==============================] - 0s 2ms/step - loss: 0.0024 - accuracy: 0.6102 - val_loss: 0.0048 - val_accuracy: 0.5824\n",
      "Epoch 57/100\n",
      "59/59 [==============================] - 0s 2ms/step - loss: 0.0024 - accuracy: 0.6182 - val_loss: 0.0048 - val_accuracy: 0.5864\n",
      "Epoch 58/100\n",
      "59/59 [==============================] - 0s 2ms/step - loss: 0.0023 - accuracy: 0.6153 - val_loss: 0.0048 - val_accuracy: 0.6072\n",
      "Epoch 59/100\n",
      "59/59 [==============================] - 0s 2ms/step - loss: 0.0023 - accuracy: 0.6211 - val_loss: 0.0047 - val_accuracy: 0.5936\n",
      "Epoch 60/100\n",
      "59/59 [==============================] - 0s 2ms/step - loss: 0.0023 - accuracy: 0.6278 - val_loss: 0.0047 - val_accuracy: 0.6032\n",
      "Epoch 61/100\n",
      "59/59 [==============================] - 0s 2ms/step - loss: 0.0022 - accuracy: 0.6145 - val_loss: 0.0046 - val_accuracy: 0.6088\n",
      "Epoch 62/100\n",
      "59/59 [==============================] - 0s 2ms/step - loss: 0.0022 - accuracy: 0.6217 - val_loss: 0.0046 - val_accuracy: 0.6128\n",
      "Epoch 63/100\n",
      "59/59 [==============================] - 0s 2ms/step - loss: 0.0021 - accuracy: 0.6227 - val_loss: 0.0044 - val_accuracy: 0.6280\n",
      "Epoch 64/100\n",
      "59/59 [==============================] - 0s 2ms/step - loss: 0.0021 - accuracy: 0.6283 - val_loss: 0.0045 - val_accuracy: 0.6080\n",
      "Epoch 65/100\n",
      "59/59 [==============================] - 0s 2ms/step - loss: 0.0021 - accuracy: 0.6294 - val_loss: 0.0045 - val_accuracy: 0.6080\n",
      "Epoch 66/100\n",
      "59/59 [==============================] - 0s 2ms/step - loss: 0.0020 - accuracy: 0.6390 - val_loss: 0.0045 - val_accuracy: 0.6296\n",
      "Epoch 67/100\n",
      "59/59 [==============================] - 0s 2ms/step - loss: 0.0020 - accuracy: 0.6382 - val_loss: 0.0045 - val_accuracy: 0.6232\n",
      "Epoch 68/100\n",
      "59/59 [==============================] - 0s 2ms/step - loss: 0.0020 - accuracy: 0.6358 - val_loss: 0.0044 - val_accuracy: 0.6096\n",
      "Epoch 69/100\n",
      "59/59 [==============================] - 0s 2ms/step - loss: 0.0020 - accuracy: 0.6305 - val_loss: 0.0044 - val_accuracy: 0.6184\n",
      "Epoch 70/100\n",
      "59/59 [==============================] - 0s 2ms/step - loss: 0.0020 - accuracy: 0.6347 - val_loss: 0.0043 - val_accuracy: 0.6208\n",
      "Epoch 71/100\n",
      "59/59 [==============================] - 0s 2ms/step - loss: 0.0019 - accuracy: 0.6454 - val_loss: 0.0044 - val_accuracy: 0.6240\n",
      "Epoch 72/100\n",
      "59/59 [==============================] - 0s 2ms/step - loss: 0.0019 - accuracy: 0.6339 - val_loss: 0.0044 - val_accuracy: 0.6288\n",
      "Epoch 73/100\n",
      "59/59 [==============================] - 0s 2ms/step - loss: 0.0019 - accuracy: 0.6422 - val_loss: 0.0042 - val_accuracy: 0.6216\n",
      "Epoch 74/100\n",
      "59/59 [==============================] - 0s 2ms/step - loss: 0.0018 - accuracy: 0.6422 - val_loss: 0.0042 - val_accuracy: 0.6232\n",
      "Epoch 75/100\n",
      "59/59 [==============================] - 0s 2ms/step - loss: 0.0018 - accuracy: 0.6510 - val_loss: 0.0042 - val_accuracy: 0.6272\n",
      "Epoch 76/100\n",
      "59/59 [==============================] - 0s 2ms/step - loss: 0.0018 - accuracy: 0.6377 - val_loss: 0.0042 - val_accuracy: 0.6248\n",
      "Epoch 77/100\n",
      "59/59 [==============================] - 0s 2ms/step - loss: 0.0018 - accuracy: 0.6385 - val_loss: 0.0042 - val_accuracy: 0.6160\n",
      "Epoch 78/100\n",
      "59/59 [==============================] - 0s 2ms/step - loss: 0.0018 - accuracy: 0.6449 - val_loss: 0.0042 - val_accuracy: 0.6352\n",
      "Epoch 79/100\n",
      "59/59 [==============================] - 0s 2ms/step - loss: 0.0018 - accuracy: 0.6523 - val_loss: 0.0042 - val_accuracy: 0.6152\n",
      "Epoch 80/100\n",
      "59/59 [==============================] - 0s 2ms/step - loss: 0.0017 - accuracy: 0.6550 - val_loss: 0.0041 - val_accuracy: 0.6360\n",
      "Epoch 81/100\n",
      "59/59 [==============================] - 0s 2ms/step - loss: 0.0017 - accuracy: 0.6580 - val_loss: 0.0041 - val_accuracy: 0.6360\n",
      "Epoch 82/100\n",
      "59/59 [==============================] - 0s 2ms/step - loss: 0.0017 - accuracy: 0.6547 - val_loss: 0.0040 - val_accuracy: 0.6392\n",
      "Epoch 83/100\n",
      "59/59 [==============================] - 0s 2ms/step - loss: 0.0016 - accuracy: 0.6547 - val_loss: 0.0041 - val_accuracy: 0.6008\n",
      "Epoch 84/100\n",
      "59/59 [==============================] - 0s 2ms/step - loss: 0.0016 - accuracy: 0.6483 - val_loss: 0.0041 - val_accuracy: 0.6240\n",
      "Epoch 85/100\n",
      "59/59 [==============================] - 0s 2ms/step - loss: 0.0016 - accuracy: 0.6467 - val_loss: 0.0040 - val_accuracy: 0.6440\n",
      "Epoch 86/100\n",
      "59/59 [==============================] - 0s 2ms/step - loss: 0.0016 - accuracy: 0.6609 - val_loss: 0.0040 - val_accuracy: 0.6256\n",
      "Epoch 87/100\n",
      "59/59 [==============================] - 0s 2ms/step - loss: 0.0016 - accuracy: 0.6633 - val_loss: 0.0039 - val_accuracy: 0.6360\n",
      "Epoch 88/100\n",
      "59/59 [==============================] - 0s 2ms/step - loss: 0.0016 - accuracy: 0.6574 - val_loss: 0.0040 - val_accuracy: 0.6416\n",
      "Epoch 89/100\n",
      "59/59 [==============================] - 0s 2ms/step - loss: 0.0015 - accuracy: 0.6657 - val_loss: 0.0040 - val_accuracy: 0.6528\n",
      "Epoch 90/100\n",
      "59/59 [==============================] - 0s 2ms/step - loss: 0.0015 - accuracy: 0.6628 - val_loss: 0.0039 - val_accuracy: 0.6496\n",
      "Epoch 91/100\n",
      "59/59 [==============================] - 0s 2ms/step - loss: 0.0015 - accuracy: 0.6654 - val_loss: 0.0041 - val_accuracy: 0.6464\n",
      "Epoch 92/100\n",
      "59/59 [==============================] - 0s 2ms/step - loss: 0.0015 - accuracy: 0.6633 - val_loss: 0.0039 - val_accuracy: 0.6568\n",
      "Epoch 93/100\n",
      "59/59 [==============================] - 0s 2ms/step - loss: 0.0015 - accuracy: 0.6644 - val_loss: 0.0039 - val_accuracy: 0.6584\n",
      "Epoch 94/100\n",
      "59/59 [==============================] - 0s 2ms/step - loss: 0.0015 - accuracy: 0.6716 - val_loss: 0.0039 - val_accuracy: 0.6536\n",
      "Epoch 95/100\n",
      "59/59 [==============================] - 0s 2ms/step - loss: 0.0014 - accuracy: 0.6716 - val_loss: 0.0038 - val_accuracy: 0.6600\n",
      "Epoch 96/100\n",
      "59/59 [==============================] - 0s 2ms/step - loss: 0.0014 - accuracy: 0.6705 - val_loss: 0.0039 - val_accuracy: 0.6640\n",
      "Epoch 97/100\n",
      "59/59 [==============================] - 0s 2ms/step - loss: 0.0015 - accuracy: 0.6662 - val_loss: 0.0039 - val_accuracy: 0.6552\n",
      "Epoch 98/100\n",
      "59/59 [==============================] - 0s 2ms/step - loss: 0.0015 - accuracy: 0.6764 - val_loss: 0.0039 - val_accuracy: 0.6696\n",
      "Epoch 99/100\n",
      "59/59 [==============================] - 0s 2ms/step - loss: 0.0014 - accuracy: 0.6793 - val_loss: 0.0038 - val_accuracy: 0.6592\n",
      "Epoch 100/100\n",
      "59/59 [==============================] - 0s 2ms/step - loss: 0.0014 - accuracy: 0.6702 - val_loss: 0.0038 - val_accuracy: 0.6488\n"
     ]
    }
   ],
   "source": [
    "history = model.fit(X_train, X_train, epochs=100, batch_size=64, shuffle=True, validation_data=(X_test, X_test))"
   ]
  },
  {
   "cell_type": "code",
   "execution_count": 102,
   "metadata": {},
   "outputs": [
    {
     "name": "stdout",
     "output_type": "stream",
     "text": [
      "(1250, 140)\n",
      "2870    0.002099\n",
      "4677    0.000674\n",
      "4554    0.000594\n",
      "4654    0.000397\n",
      "737     0.001341\n",
      "          ...   \n",
      "3574    0.000962\n",
      "3237    0.001058\n",
      "1698    0.016209\n",
      "2879    0.001810\n",
      "149     0.001654\n",
      "Length: 1250, dtype: float64\n"
     ]
    }
   ],
   "source": [
    "import numpy as np\n",
    "predictions = model.predict(X_test)\n",
    "print(predictions.shape)\n",
    "mse = np.mean(np.power(X_test-predictions,2),axis=1)\n",
    "print(mse)"
   ]
  },
  {
   "cell_type": "code",
   "execution_count": 103,
   "metadata": {},
   "outputs": [],
   "source": [
    "anomalies = mse>0.1"
   ]
  },
  {
   "cell_type": "code",
   "execution_count": 104,
   "metadata": {},
   "outputs": [
    {
     "name": "stdout",
     "output_type": "stream",
     "text": [
      "2870    False\n",
      "4677    False\n",
      "4554    False\n",
      "4654    False\n",
      "737     False\n",
      "        ...  \n",
      "3574    False\n",
      "3237    False\n",
      "1698    False\n",
      "2879    False\n",
      "149     False\n",
      "Length: 1250, dtype: bool\n"
     ]
    }
   ],
   "source": [
    "print(anomalies)"
   ]
  },
  {
   "cell_type": "code",
   "execution_count": 105,
   "metadata": {},
   "outputs": [
    {
     "data": {
      "text/plain": [
       "11"
      ]
     },
     "execution_count": 105,
     "metadata": {},
     "output_type": "execute_result"
    }
   ],
   "source": [
    "np.sum(anomalies)"
   ]
  },
  {
   "cell_type": "code",
   "execution_count": 106,
   "metadata": {},
   "outputs": [
    {
     "data": {
      "text/plain": [
       "2870   -0.517689\n",
       "4677    0.861865\n",
       "4554    1.009171\n",
       "4654    0.840813\n",
       "737     1.590227\n",
       "          ...   \n",
       "3574   -0.291860\n",
       "3237    0.088787\n",
       "1698   -4.386722\n",
       "2879    1.461370\n",
       "149    -0.091514\n",
       "Name: 0, Length: 1250, dtype: float64"
      ]
     },
     "execution_count": 106,
     "metadata": {},
     "output_type": "execute_result"
    }
   ],
   "source": [
    "X_test[0]"
   ]
  },
  {
   "cell_type": "code",
   "execution_count": 107,
   "metadata": {},
   "outputs": [
    {
     "ename": "AttributeError",
     "evalue": "'numpy.ndarray' object has no attribute 'values'",
     "output_type": "error",
     "traceback": [
      "\u001b[1;31m---------------------------------------------------------------------------\u001b[0m",
      "\u001b[1;31mAttributeError\u001b[0m                            Traceback (most recent call last)",
      "\u001b[1;32m<ipython-input-107-e7397a2eefc0>\u001b[0m in \u001b[0;36m<module>\u001b[1;34m\u001b[0m\n\u001b[0;32m      1\u001b[0m \u001b[0mplt\u001b[0m\u001b[1;33m.\u001b[0m\u001b[0mfigure\u001b[0m\u001b[1;33m(\u001b[0m\u001b[0mfigsize\u001b[0m\u001b[1;33m=\u001b[0m\u001b[1;33m(\u001b[0m\u001b[1;36m10\u001b[0m\u001b[1;33m,\u001b[0m\u001b[1;36m10\u001b[0m\u001b[1;33m)\u001b[0m\u001b[1;33m)\u001b[0m\u001b[1;33m\u001b[0m\u001b[1;33m\u001b[0m\u001b[0m\n\u001b[0;32m      2\u001b[0m \u001b[0mplt\u001b[0m\u001b[1;33m.\u001b[0m\u001b[0mplot\u001b[0m\u001b[1;33m(\u001b[0m\u001b[0mX_test\u001b[0m\u001b[1;33m[\u001b[0m\u001b[1;36m1\u001b[0m\u001b[1;33m]\u001b[0m\u001b[1;33m.\u001b[0m\u001b[0mvalues\u001b[0m\u001b[1;33m)\u001b[0m\u001b[1;33m\u001b[0m\u001b[1;33m\u001b[0m\u001b[0m\n\u001b[1;32m----> 3\u001b[1;33m \u001b[0mplt\u001b[0m\u001b[1;33m.\u001b[0m\u001b[0mplot\u001b[0m\u001b[1;33m(\u001b[0m\u001b[0mpredictions\u001b[0m\u001b[1;33m[\u001b[0m\u001b[1;36m1\u001b[0m\u001b[1;33m]\u001b[0m\u001b[1;33m.\u001b[0m\u001b[0mvalues\u001b[0m\u001b[1;33m)\u001b[0m\u001b[1;33m\u001b[0m\u001b[1;33m\u001b[0m\u001b[0m\n\u001b[0m",
      "\u001b[1;31mAttributeError\u001b[0m: 'numpy.ndarray' object has no attribute 'values'"
     ]
    },
    {
     "data": {
      "image/png": "[encoded data removed]",
      "text/plain": [
       "<Figure size 720x720 with 1 Axes>"
      ]
     },
     "metadata": {
      "needs_background": "light"
     },
     "output_type": "display_data"
    }
   ],
   "source": [
    "plt.figure(figsize=(10,10))\n",
    "plt.plot(X_test[1].values)\n",
    "plt.plot(predictions[1].values)"
   ]
  },
  {
   "cell_type": "code",
   "execution_count": null,
   "metadata": {},
   "outputs": [],
   "source": []
  },
  {
   "cell_type": "code",
   "execution_count": null,
   "metadata": {},
   "outputs": [],
   "source": []
  }
 ],
 "metadata": {
  "kernelspec": {
   "display_name": "base",
   "language": "python",
   "name": "python3"
  },
  "language_info": {
   "codemirror_mode": {
    "name": "ipython",
    "version": 3
   },
   "file_extension": ".py",
   "mimetype": "text/x-python",
   "name": "python",
   "nbconvert_exporter": "python",
   "pygments_lexer": "ipython3",
   "version": "3.8.8"
  }
 },
 "nbformat": 4,
 "nbformat_minor": 2
}
